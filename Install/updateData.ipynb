{
 "cells": [
  {
   "cell_type": "code",
   "execution_count": 80,
   "metadata": {},
   "outputs": [],
   "source": [
    "import requests\n",
    "import json"
   ]
  },
  {
   "cell_type": "code",
   "execution_count": null,
   "metadata": {},
   "outputs": [],
   "source": [
    "MonitDefor = \"http://geospatial.sernanp.gob.pe/arcgis_server/rest/services/sernanp_monitoreo/deforestacion/FeatureServer/0\"\n",
    "ConfirmacionDefor = \"http://geospatial.sernanp.gob.pe/arcgis_server/rest/services/Hosted/service_832d07b827f34c2292b0db146e6ecc48/FeatureServer/0\""
   ]
  },
  {
   "cell_type": "code",
   "execution_count": 100,
   "metadata": {},
   "outputs": [],
   "source": [
    "def oidsOnly(url, coords, distance):\n",
    "    response = requests.post(\n",
    "        url + \"/query\",\n",
    "        data = {\n",
    "            \"where\": \"1=1\",\n",
    "            \"geometry\": \"{}, {}\".format(coords[0], coords[1]),\n",
    "            \"geometryType\": \"esriGeometryPoint\",\n",
    "            \"inSR\": \"4326\",\n",
    "            \"spatialRel\": \"esriSpatialRelIntersects\",\n",
    "            \"distance\": \"{}\".format(distance),\n",
    "            \"units\": \"esriSRUnit_Kilometer\",\n",
    "            \"outFields\": \"*\",\n",
    "            \"outSR\": \"4326\",\n",
    "            \"returnIdsOnly\": \"true\",\n",
    "            \"f\": \"pjson\"\n",
    "        }\n",
    "    )\n",
    "    res = json.loads(response.text)\n",
    "    lista_oids = list(set(res[\"objectIds\"]))\n",
    "    return lista_oids\n",
    "    \n",
    "def actualizar_servicio(url, datos):\n",
    "    url_update = '{}/updateFeatures'.format(url)\n",
    "    res_update = requests.post(\n",
    "        url_update,\n",
    "        data = {\n",
    "        'features': json.dumps(datos),\n",
    "        'f': 'pjson'\n",
    "        }\n",
    "    )\n",
    "    print(datos)\n",
    "    resup = json.loads(res_update.text)\n",
    "    print(resup)\n",
    "\n",
    "def consulta_esquema(url):\n",
    "    url = '{}/query'.format(url)\n",
    "    response = requests.post(\n",
    "        url,\n",
    "        data={\n",
    "            'where': '1=1',\n",
    "            'outFields': \"*\",\n",
    "            'f': 'pjson'\n",
    "        }\n",
    "    )\n",
    "    res = json.loads(response.text)\n",
    "    return res"
   ]
  },
  {
   "cell_type": "code",
   "execution_count": 85,
   "metadata": {},
   "outputs": [],
   "source": [
    "confirm = consulta_esquema(ConfirmacionDefor)"
   ]
  },
  {
   "cell_type": "code",
   "execution_count": 101,
   "metadata": {},
   "outputs": [],
   "source": [
    "new_features = []\n",
    "for confirmado in confirm[\"features\"]:\n",
    "    coords = [confirmado[\"geometry\"][\"x\"], confirmado[\"geometry\"][\"y\"]]\n",
    "    oid_list = oidsOnly(MonitDefor, coords, 5)\n",
    "    for oid in oid_list:\n",
    "        feature = {}\n",
    "        row = {}\n",
    "        row[\"objectid\"] = oid\n",
    "        for feat in confirm[\"features\"]:\n",
    "            row[\"md_feccam\"] = feat[\"attributes\"][\"md_feccam\"]\n",
    "            row[\"md_actom\"] = feat[\"attributes\"][\"md_actom\"]\n",
    "            row[\"md_medver\"] = feat[\"attributes\"][\"md_medver\"]\n",
    "            row[\"anp_codi\"] = feat[\"attributes\"][\"anp_codi\"]\n",
    "            row[\"md_causa\"] = feat[\"attributes\"][\"md_causa\"]\n",
    "            row[\"md_obs\"] = feat[\"attributes\"][\"md_obs\"]\n",
    "            row[\"md_revcam\"] = feat[\"attributes\"][\"md_revcam\"]\n",
    "        feature[\"attributes\"] = row\n",
    "        new_features.append(feature)\n"
   ]
  },
  {
   "cell_type": "code",
   "execution_count": 104,
   "metadata": {},
   "outputs": [
    {
     "name": "stdout",
     "output_type": "stream",
     "text": [
      "[{'attributes': {'md_feccam': 1636644540000L, 'objectid': 14211, 'md_medver': u'Pruebas', 'anp_codi': u'RC02', 'md_actom': u'Roy Yali', 'md_causa': 1, 'md_obs': None, 'md_revcam': 1}}, {'attributes': {'md_feccam': 1636644540000L, 'objectid': 11415, 'md_medver': u'Pruebas', 'anp_codi': u'RC02', 'md_actom': u'Roy Yali', 'md_causa': 1, 'md_obs': None, 'md_revcam': 1}}, {'attributes': {'md_feccam': 1636644540000L, 'objectid': 7184, 'md_medver': u'Pruebas', 'anp_codi': u'RC02', 'md_actom': u'Roy Yali', 'md_causa': 1, 'md_obs': None, 'md_revcam': 1}}, {'attributes': {'md_feccam': 1636644540000L, 'objectid': 14098, 'md_medver': u'Pruebas', 'anp_codi': u'RC02', 'md_actom': u'Roy Yali', 'md_causa': 1, 'md_obs': None, 'md_revcam': 1}}, {'attributes': {'md_feccam': 1636644540000L, 'objectid': 7831, 'md_medver': u'Pruebas', 'anp_codi': u'RC02', 'md_actom': u'Roy Yali', 'md_causa': 1, 'md_obs': None, 'md_revcam': 1}}, {'attributes': {'md_feccam': 1636644540000L, 'objectid': 15383, 'md_medver': u'Pruebas', 'anp_codi': u'RC02', 'md_actom': u'Roy Yali', 'md_causa': 1, 'md_obs': None, 'md_revcam': 1}}, {'attributes': {'md_feccam': 1636644540000L, 'objectid': 7706, 'md_medver': u'Pruebas', 'anp_codi': u'RC02', 'md_actom': u'Roy Yali', 'md_causa': 1, 'md_obs': None, 'md_revcam': 1}}, {'attributes': {'md_feccam': 1636644540000L, 'objectid': 10654, 'md_medver': u'Pruebas', 'anp_codi': u'RC02', 'md_actom': u'Roy Yali', 'md_causa': 1, 'md_obs': None, 'md_revcam': 1}}, {'attributes': {'md_feccam': 1636644540000L, 'objectid': 14859, 'md_medver': u'Pruebas', 'anp_codi': u'RC02', 'md_actom': u'Roy Yali', 'md_causa': 1, 'md_obs': None, 'md_revcam': 1}}, {'attributes': {'md_feccam': 1636644540000L, 'objectid': 9508, 'md_medver': u'Pruebas', 'anp_codi': u'RC02', 'md_actom': u'Roy Yali', 'md_causa': 1, 'md_obs': None, 'md_revcam': 1}}, {'attributes': {'md_feccam': 1636644540000L, 'objectid': 13477, 'md_medver': u'Pruebas', 'anp_codi': u'RC02', 'md_actom': u'Roy Yali', 'md_causa': 1, 'md_obs': None, 'md_revcam': 1}}, {'attributes': {'md_feccam': 1636644540000L, 'objectid': 12458, 'md_medver': u'Pruebas', 'anp_codi': u'RC02', 'md_actom': u'Roy Yali', 'md_causa': 1, 'md_obs': None, 'md_revcam': 1}}, {'attributes': {'md_feccam': 1636644540000L, 'objectid': 16046, 'md_medver': u'Pruebas', 'anp_codi': u'RC02', 'md_actom': u'Roy Yali', 'md_causa': 1, 'md_obs': None, 'md_revcam': 1}}, {'attributes': {'md_feccam': 1636644540000L, 'objectid': 15919, 'md_medver': u'Pruebas', 'anp_codi': u'RC02', 'md_actom': u'Roy Yali', 'md_causa': 1, 'md_obs': None, 'md_revcam': 1}}, {'attributes': {'md_feccam': 1636644540000L, 'objectid': 6066, 'md_medver': u'Pruebas', 'anp_codi': u'RC02', 'md_actom': u'Roy Yali', 'md_causa': 1, 'md_obs': None, 'md_revcam': 1}}, {'attributes': {'md_feccam': 1636644540000L, 'objectid': 10270, 'md_medver': u'Pruebas', 'anp_codi': u'RC02', 'md_actom': u'Roy Yali', 'md_causa': 1, 'md_obs': None, 'md_revcam': 1}}, {'attributes': {'md_feccam': 1636644540000L, 'objectid': 10806, 'md_medver': u'Pruebas', 'anp_codi': u'RC02', 'md_actom': u'Roy Yali', 'md_causa': 1, 'md_obs': None, 'md_revcam': 1}}, {'attributes': {'md_feccam': 1636644540000L, 'objectid': 15287, 'md_medver': u'Pruebas', 'anp_codi': u'RC02', 'md_actom': u'Roy Yali', 'md_causa': 1, 'md_obs': None, 'md_revcam': 1}}, {'attributes': {'md_feccam': 1636644540000L, 'objectid': 16058, 'md_medver': u'Pruebas', 'anp_codi': u'RC02', 'md_actom': u'Roy Yali', 'md_causa': 1, 'md_obs': None, 'md_revcam': 1}}, {'attributes': {'md_feccam': 1636644540000L, 'objectid': 11317, 'md_medver': u'Pruebas', 'anp_codi': u'RC02', 'md_actom': u'Roy Yali', 'md_causa': 1, 'md_obs': None, 'md_revcam': 1}}, {'attributes': {'md_feccam': 1636644540000L, 'objectid': 9666, 'md_medver': u'Pruebas', 'anp_codi': u'RC02', 'md_actom': u'Roy Yali', 'md_causa': 1, 'md_obs': None, 'md_revcam': 1}}, {'attributes': {'md_feccam': 1636644540000L, 'objectid': 9667, 'md_medver': u'Pruebas', 'anp_codi': u'RC02', 'md_actom': u'Roy Yali', 'md_causa': 1, 'md_obs': None, 'md_revcam': 1}}, {'attributes': {'md_feccam': 1636644540000L, 'objectid': 9668, 'md_medver': u'Pruebas', 'anp_codi': u'RC02', 'md_actom': u'Roy Yali', 'md_causa': 1, 'md_obs': None, 'md_revcam': 1}}, {'attributes': {'md_feccam': 1636644540000L, 'objectid': 9669, 'md_medver': u'Pruebas', 'anp_codi': u'RC02', 'md_actom': u'Roy Yali', 'md_causa': 1, 'md_obs': None, 'md_revcam': 1}}, {'attributes': {'md_feccam': 1636644540000L, 'objectid': 9670, 'md_medver': u'Pruebas', 'anp_codi': u'RC02', 'md_actom': u'Roy Yali', 'md_causa': 1, 'md_obs': None, 'md_revcam': 1}}, {'attributes': {'md_feccam': 1636644540000L, 'objectid': 9671, 'md_medver': u'Pruebas', 'anp_codi': u'RC02', 'md_actom': u'Roy Yali', 'md_causa': 1, 'md_obs': None, 'md_revcam': 1}}, {'attributes': {'md_feccam': 1636644540000L, 'objectid': 9672, 'md_medver': u'Pruebas', 'anp_codi': u'RC02', 'md_actom': u'Roy Yali', 'md_causa': 1, 'md_obs': None, 'md_revcam': 1}}, {'attributes': {'md_feccam': 1636644540000L, 'objectid': 9673, 'md_medver': u'Pruebas', 'anp_codi': u'RC02', 'md_actom': u'Roy Yali', 'md_causa': 1, 'md_obs': None, 'md_revcam': 1}}, {'attributes': {'md_feccam': 1636644540000L, 'objectid': 10701, 'md_medver': u'Pruebas', 'anp_codi': u'RC02', 'md_actom': u'Roy Yali', 'md_causa': 1, 'md_obs': None, 'md_revcam': 1}}, {'attributes': {'md_feccam': 1636644540000L, 'objectid': 12625, 'md_medver': u'Pruebas', 'anp_codi': u'RC02', 'md_actom': u'Roy Yali', 'md_causa': 1, 'md_obs': None, 'md_revcam': 1}}, {'attributes': {'md_feccam': 1636644540000L, 'objectid': 14547, 'md_medver': u'Pruebas', 'anp_codi': u'RC02', 'md_actom': u'Roy Yali', 'md_causa': 1, 'md_obs': None, 'md_revcam': 1}}, {'attributes': {'md_feccam': 1636644540000L, 'objectid': 15189, 'md_medver': u'Pruebas', 'anp_codi': u'RC02', 'md_actom': u'Roy Yali', 'md_causa': 1, 'md_obs': None, 'md_revcam': 1}}, {'attributes': {'md_feccam': 1636644540000L, 'objectid': 14039, 'md_medver': u'Pruebas', 'anp_codi': u'RC02', 'md_actom': u'Roy Yali', 'md_causa': 1, 'md_obs': None, 'md_revcam': 1}}, {'attributes': {'md_feccam': 1636644540000L, 'objectid': 16088, 'md_medver': u'Pruebas', 'anp_codi': u'RC02', 'md_actom': u'Roy Yali', 'md_causa': 1, 'md_obs': None, 'md_revcam': 1}}, {'attributes': {'md_feccam': 1636644540000L, 'objectid': 12765, 'md_medver': u'Pruebas', 'anp_codi': u'RC02', 'md_actom': u'Roy Yali', 'md_causa': 1, 'md_obs': None, 'md_revcam': 1}}, {'attributes': {'md_feccam': 1636644540000L, 'objectid': 15714, 'md_medver': u'Pruebas', 'anp_codi': u'RC02', 'md_actom': u'Roy Yali', 'md_causa': 1, 'md_obs': None, 'md_revcam': 1}}, {'attributes': {'md_feccam': 1636644540000L, 'objectid': 12771, 'md_medver': u'Pruebas', 'anp_codi': u'RC02', 'md_actom': u'Roy Yali', 'md_causa': 1, 'md_obs': None, 'md_revcam': 1}}, {'attributes': {'md_feccam': 1636644540000L, 'objectid': 14691, 'md_medver': u'Pruebas', 'anp_codi': u'RC02', 'md_actom': u'Roy Yali', 'md_causa': 1, 'md_obs': None, 'md_revcam': 1}}, {'attributes': {'md_feccam': 1636644540000L, 'objectid': 7662, 'md_medver': u'Pruebas', 'anp_codi': u'RC02', 'md_actom': u'Roy Yali', 'md_causa': 1, 'md_obs': None, 'md_revcam': 1}}, {'attributes': {'md_feccam': 1636644540000L, 'objectid': 7663, 'md_medver': u'Pruebas', 'anp_codi': u'RC02', 'md_actom': u'Roy Yali', 'md_causa': 1, 'md_obs': None, 'md_revcam': 1}}, {'attributes': {'md_feccam': 1636644540000L, 'objectid': 7664, 'md_medver': u'Pruebas', 'anp_codi': u'RC02', 'md_actom': u'Roy Yali', 'md_causa': 1, 'md_obs': None, 'md_revcam': 1}}, {'attributes': {'md_feccam': 1636644540000L, 'objectid': 12786, 'md_medver': u'Pruebas', 'anp_codi': u'RC02', 'md_actom': u'Roy Yali', 'md_causa': 1, 'md_obs': None, 'md_revcam': 1}}, {'attributes': {'md_feccam': 1636644540000L, 'objectid': 12540, 'md_medver': u'Pruebas', 'anp_codi': u'RC02', 'md_actom': u'Roy Yali', 'md_causa': 1, 'md_obs': None, 'md_revcam': 1}}, {'attributes': {'md_feccam': 1636644540000L, 'objectid': 10878, 'md_medver': u'Pruebas', 'anp_codi': u'RC02', 'md_actom': u'Roy Yali', 'md_causa': 1, 'md_obs': None, 'md_revcam': 1}}]\n",
      "{u'updateResults': [{u'success': True, u'globalId': u'{C8158723-3838-4C40-AAA8-03026BB5F327}', u'objectId': 14211}, {u'success': True, u'globalId': u'{03268EEA-552C-4B47-AE13-150F4EE94940}', u'objectId': 11415}, {u'success': True, u'globalId': u'{34E114C5-2D1D-40EB-A07E-61CB2BB06967}', u'objectId': 7184}, {u'success': True, u'globalId': u'{BAE79548-8A5A-42BD-9698-0B1EB9E58FC4}', u'objectId': 14098}, {u'success': True, u'globalId': u'{58B0DC41-A70F-400D-A3EE-E3C5AF192DA6}', u'objectId': 7831}, {u'success': True, u'globalId': u'{1AEBB378-9B9C-4C6F-9D89-7BA610B059B3}', u'objectId': 15383}, {u'success': True, u'globalId': u'{E8B282F2-9FBC-40BD-A7D4-B95AD09BBA7C}', u'objectId': 7706}, {u'success': True, u'globalId': u'{64D6C22B-E675-44C3-A12B-140B3C0DFC26}', u'objectId': 10654}, {u'success': True, u'globalId': u'{3DEDD395-BA47-4F89-AE85-048C305FA840}', u'objectId': 14859}, {u'success': True, u'globalId': u'{A16F2554-A50C-4A88-AADE-7D2CE3BB8FF7}', u'objectId': 9508}, {u'success': True, u'globalId': u'{B72767DF-2300-44DB-A734-248FF25C954E}', u'objectId': 13477}, {u'success': True, u'globalId': u'{0B22092F-DE39-4FF5-AA4F-542E28AA6E8E}', u'objectId': 12458}, {u'success': True, u'globalId': u'{D6404B8E-45EA-4975-A3F6-2EC3BE93AE6A}', u'objectId': 16046}, {u'success': True, u'globalId': u'{5EBE9A5F-CF07-47F4-8090-340D3ACA0C54}', u'objectId': 15919}, {u'success': True, u'globalId': u'{A2200475-57A4-4ED5-9F9C-9501D0B86A4E}', u'objectId': 6066}, {u'success': True, u'globalId': u'{CA541535-2615-4904-B851-FD117D32BCBE}', u'objectId': 10270}, {u'success': True, u'globalId': u'{F761991E-CAA7-47C7-893F-B6219FC4A899}', u'objectId': 10806}, {u'success': True, u'globalId': u'{2A4BDDA0-260B-48D1-9454-4BBAB9E671D3}', u'objectId': 15287}, {u'success': True, u'globalId': u'{BC1381FC-65C5-4074-9E3E-5485C5C98978}', u'objectId': 16058}, {u'success': True, u'globalId': u'{79A3971F-A1B3-4CB5-8115-59CB3BDBBAD5}', u'objectId': 11317}, {u'success': True, u'globalId': u'{DF6F0C9A-B32A-4E55-B9A2-AA2E6337C112}', u'objectId': 9666}, {u'success': True, u'globalId': u'{87AA1158-BC48-4B1C-B7D5-331697F3769B}', u'objectId': 9667}, {u'success': True, u'globalId': u'{051C5F86-F9E8-4096-A46E-325BBA9E01C0}', u'objectId': 9668}, {u'success': True, u'globalId': u'{3EB2537C-5F49-43A6-A34C-0412CD5187D0}', u'objectId': 9669}, {u'success': True, u'globalId': u'{69906AF2-F0F9-4E3C-88FE-657A3EDA4982}', u'objectId': 9670}, {u'success': True, u'globalId': u'{9E888B0F-28AA-41B5-9F1B-BA59C8139ABF}', u'objectId': 9671}, {u'success': True, u'globalId': u'{4CBBD099-C0BB-4DDC-9327-EEDD086317C9}', u'objectId': 9672}, {u'success': True, u'globalId': u'{27E8438E-0E57-4783-8FDF-7EC770B0C489}', u'objectId': 9673}, {u'success': True, u'globalId': u'{BBCFBD84-4892-42F8-92F5-DA9830BFAED5}', u'objectId': 10701}, {u'success': True, u'globalId': u'{5C979387-7EAB-4CCA-A555-A64E740B78B4}', u'objectId': 12625}, {u'success': True, u'globalId': u'{35E85689-5198-47E2-B57E-EB346CDE2694}', u'objectId': 14547}, {u'success': True, u'globalId': u'{93DFDB47-4506-4019-BC37-2BF6652A6B7B}', u'objectId': 15189}, {u'success': True, u'globalId': u'{C27BBAA5-07FC-4D0C-95B5-B799BED0893B}', u'objectId': 14039}, {u'success': True, u'globalId': u'{A5F77A3B-0A1B-4C26-9032-541BBC9EB117}', u'objectId': 16088}, {u'success': True, u'globalId': u'{2266F203-102F-40DE-8D8E-AA360269A380}', u'objectId': 12765}, {u'success': True, u'globalId': u'{5716B059-1168-469F-A4DD-9A28FEFEF790}', u'objectId': 15714}, {u'success': True, u'globalId': u'{306FAD2C-4ECA-48C1-ACB4-B3F13FF5EFE8}', u'objectId': 12771}, {u'success': True, u'globalId': u'{005BDA24-E9D2-469A-B451-712ACFE6BA36}', u'objectId': 14691}, {u'success': True, u'globalId': u'{F0FCE97A-AD19-4496-B70E-E6A3B4CCCE2E}', u'objectId': 7662}, {u'success': True, u'globalId': u'{433F4F92-F550-4048-BC37-ED61DC5CFA04}', u'objectId': 7663}, {u'success': True, u'globalId': u'{C0D2CF71-6AAE-451E-A91A-8FDD21160343}', u'objectId': 7664}, {u'success': True, u'globalId': u'{D3862FEC-2429-45B9-951C-C34994066F35}', u'objectId': 12786}, {u'success': True, u'globalId': u'{4131C9C5-6123-469E-A788-7323ACBB6BAD}', u'objectId': 12540}, {u'success': True, u'globalId': u'{D46F3E17-3B4F-4878-84F9-0AA3DEA17D84}', u'objectId': 10878}]}\n"
     ]
    }
   ],
   "source": [
    "actualizar_servicio(MonitDefor, new_features)"
   ]
  },
  {
   "cell_type": "code",
   "execution_count": null,
   "metadata": {},
   "outputs": [],
   "source": []
  },
  {
   "cell_type": "code",
   "execution_count": null,
   "metadata": {},
   "outputs": [],
   "source": []
  },
  {
   "cell_type": "code",
   "execution_count": 95,
   "metadata": {},
   "outputs": [],
   "source": [
    "response = requests.post(\n",
    "        MonitDefor + \"/query\",\n",
    "        data = {\n",
    "            \"where\": \"1=1\",\n",
    "            \"geometry\": \"{}, {}\".format(coords[0], coords[1]),\n",
    "            \"geometryType\": \"esriGeometryPoint\",\n",
    "            \"inSR\": \"4326\",\n",
    "            \"spatialRel\": \"esriSpatialRelIntersects\",\n",
    "            \"distance\": \"{}\".format(5),\n",
    "            \"units\": \"esriSRUnit_Kilometer\",\n",
    "            \"outFields\": \"*\",\n",
    "            \"outSR\": \"4326\",\n",
    "            \"returnIdsOnly\": \"true\",\n",
    "            \"f\": \"pjson\"\n",
    "        }\n",
    "    )\n"
   ]
  },
  {
   "cell_type": "code",
   "execution_count": 98,
   "metadata": {},
   "outputs": [],
   "source": [
    "res = json.loads(response.text)\n",
    "lista_oids = list(set(res[\"objectIds\"]))\n"
   ]
  },
  {
   "cell_type": "code",
   "execution_count": null,
   "metadata": {},
   "outputs": [],
   "source": []
  }
 ],
 "metadata": {
  "kernelspec": {
   "display_name": "Python 3 (ipykernel)",
   "language": "python",
   "name": "python3"
  },
  "language_info": {
   "codemirror_mode": {
    "name": "ipython",
    "version": 2
   },
   "file_extension": ".py",
   "mimetype": "text/x-python",
   "name": "python",
   "nbconvert_exporter": "python",
   "pygments_lexer": "ipython2",
   "version": "2.7.16"
  }
 },
 "nbformat": 4,
 "nbformat_minor": 4
}
