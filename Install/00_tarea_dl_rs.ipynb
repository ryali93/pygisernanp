{
 "cells": [
  {
   "cell_type": "code",
   "execution_count": 8,
   "id": "21e4b152",
   "metadata": {},
   "outputs": [
    {
     "name": "stdout",
     "output_type": "stream",
     "text": [
      "1\n",
      "1 2\n",
      "1 2 3\n",
      "1 2 3 4\n",
      "1 2 3 4 5\n"
     ]
    }
   ],
   "source": [
    "def arbol_numeros(n):\n",
    "    for i in range(1,n+1):\n",
    "        print(\" \".join(str(x+1) for x in range(i)))\n",
    "arbol_numeros(5)\n",
    "# n = 5\n",
    "# for i in range(1, n):\n",
    "#     for j in range(1,i+1):\n",
    "#         print(j, end = \" \")\n",
    "#     print()"
   ]
  },
  {
   "cell_type": "code",
   "execution_count": 12,
   "id": "fcb0809e",
   "metadata": {},
   "outputs": [],
   "source": [
    "def get_number_sausage_inside_pizza(radio, width, chunk_number, props_sausage):\n",
    "  # Diferencia entre el radio de la pizza y el ancho de la corteza\n",
    "  diff_radio_width = radio - width\n",
    "\n",
    "  # Variable que almacenara el resultado\n",
    "  response = 0\n",
    "\n",
    "  # Iteramos todas las salchicas ingresadas\n",
    "  for i in props_sausage:\n",
    "    # Calculamos la distancia entre el centro de la pizza y el centro de cada salchicha\n",
    "    distance_of_center = pow((i[0]**2) + (i[1]**2), 0.5)\n",
    "\n",
    "    # Calculamos la diferencia entre la distancia al centro de la salchicha y el radio de la salchicha\n",
    "    diff_distance_center = distance_of_center - i[-1]\n",
    "\n",
    "    # Calculamos la suma entre la distancia al centro de la salchicha y el radio de la salchicha\n",
    "    add_distance_center = distance_of_center + i[-1]\n",
    "    \n",
    "    # Si la diferencia es mayor o igual a la diferencia entre el radio de la pizza y el ancho de la corteza y\n",
    "    # Si la suma es menor o igual al radio de la pizza; la salchicha está contenida completamente en la corteza\n",
    "    if diff_distance_center >= diff_radio_width and add_distance_center <= radio:\n",
    "      response += 1\n",
    "  \n",
    "  return response\n"
   ]
  },
  {
   "cell_type": "code",
   "execution_count": 13,
   "id": "6516396d",
   "metadata": {},
   "outputs": [
    {
     "name": "stdout",
     "output_type": "stream",
     "text": [
      "2\n",
      "0\n"
     ]
    }
   ],
   "source": [
    "print(get_number_sausage_inside_pizza(8, 4, 7, [[7, 8, 1], [-7, 3, 2], [0, 2, 1], [0, -2, 2], [-3, -3, 1], [0, 6, 2], [5, 3, 1]]))\n",
    "print(get_number_sausage_inside_pizza(10, 8, 4, [[0, 0, 9], [0, 0, 10], [1, 0, 1], [1, 0, 2]]))\n"
   ]
  },
  {
   "cell_type": "code",
   "execution_count": null,
   "id": "f992c41b",
   "metadata": {},
   "outputs": [],
   "source": []
  }
 ],
 "metadata": {
  "interpreter": {
   "hash": "102c8ec0024b396fe1debc51834774a4c3753a15e85bef2fba087de6f727836c"
  },
  "kernelspec": {
   "display_name": "Python 3.8.10 64-bit ('venv': venv)",
   "name": "python3"
  },
  "language_info": {
   "codemirror_mode": {
    "name": "ipython",
    "version": 3
   },
   "file_extension": ".py",
   "mimetype": "text/x-python",
   "name": "python",
   "nbconvert_exporter": "python",
   "pygments_lexer": "ipython3",
   "version": "3.8.10"
  }
 },
 "nbformat": 4,
 "nbformat_minor": 5
}
