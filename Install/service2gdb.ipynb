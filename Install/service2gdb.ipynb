{
 "cells": [
  {
   "cell_type": "code",
   "execution_count": 1,
   "metadata": {},
   "outputs": [],
   "source": [
    "import os, requests\n",
    "import json, uuid\n",
    "import arcpy\n",
    "\n",
    "scratch = arcpy.env.scratchGDB\n",
    "arcpy.env.overwriteOutput = True"
   ]
  },
  {
   "cell_type": "code",
   "execution_count": 8,
   "metadata": {},
   "outputs": [],
   "source": [
    "def validation(pth):\n",
    "    if arcpy.Exists(pth) == True:\n",
    "        if int(arcpy.GetCount_management(pth).getOutput(0)) != 0:\n",
    "            arcpy.Delete_management(pth)\n",
    "\n",
    "def countOnly(url):\n",
    "    response = requests.post(\n",
    "        url,\n",
    "        data={\n",
    "            'where': '1=1',\n",
    "            'outFields': \"*\",\n",
    "            'returnCountOnly': 'true',\n",
    "            'f': 'pjson'\n",
    "        }\n",
    "    )\n",
    "    res = json.loads(response.text)\n",
    "    cantidad = res[\"count\"]\n",
    "    return cantidad\n",
    "\n",
    "def oidsOnly(url):\n",
    "    lista_oids = []\n",
    "    response = requests.post(\n",
    "        url,\n",
    "        data={\n",
    "            'where': \"1=1\",\n",
    "            'outFields': \"*\",\n",
    "            'returnIdsOnly': 'true',\n",
    "            'f': 'pjson'\n",
    "        }\n",
    "    )\n",
    "    res = json.loads(response.text)\n",
    "    lista_oids.extend(res[\"objectIds\"])\n",
    "    lista_oids = list(set(lista_oids))\n",
    "    return(lista_oids)\n",
    "\n",
    "def requestData(url, lista_oids):\n",
    "    chunks = [lista_oids[x:x + 1000] for x in range(0, len(lista_oids), 1000)]\n",
    "    for n in chunks:\n",
    "        print(len(n))\n",
    "        n = ','.join([str(x) for x in n])\n",
    "        response = requests.post(\n",
    "            url,\n",
    "            data={\n",
    "                'objectIds': n,\n",
    "                'outFields': \"*\",\n",
    "                'f': 'pjson'\n",
    "            }\n",
    "        )\n",
    "        res = json.loads(response.text)\n",
    "        feature = arcpy.AsShape(res, True)\n",
    "        return feature\n",
    "\n",
    "def uploadData(feature, pth):\n",
    "    if arcpy.Exists(pth) == False:\n",
    "        # arcpy.CopyFeatures_management(feature, pth)\n",
    "        print(\"NO EXISTE O NO SE PUDO COPIAR\")\n",
    "    else:\n",
    "        workspace = os.path.dirname(os.path.dirname(pth))\n",
    "        edit = arcpy.da.Editor(workspace)\n",
    "        edit.startEditing(False, True)\n",
    "        arcpy.Append_management(feature, pth, 'NO_TEST')\n",
    "        edit.stopEditing(True)"
   ]
  },
  {
   "cell_type": "code",
   "execution_count": 9,
   "metadata": {},
   "outputs": [],
   "source": [
    "gdb = r'Database Connections\\gdb.sde'\n",
    "nameFd = r'gdb.sde.RiesgoDesastres'\n",
    "nameFc = r'gdb.sde.CicatricesIncendios'\n",
    "pth = os.path.join(gdb, nameFd, nameFc)\n",
    "url = 'https://geo.serfor.gob.pe/geoservicios/rest/services/Visor/Incendios/MapServer/5/query'"
   ]
  },
  {
   "cell_type": "code",
   "execution_count": 10,
   "metadata": {},
   "outputs": [
    {
     "name": "stdout",
     "output_type": "stream",
     "text": [
      "Database Connections\\gdb.sde\\gdb.sde.RiesgoDesastres\\gdb.sde.CicatricesIncendios\n"
     ]
    }
   ],
   "source": [
    "print(pth)"
   ]
  },
  {
   "cell_type": "code",
   "execution_count": 11,
   "metadata": {},
   "outputs": [
    {
     "name": "stdout",
     "output_type": "stream",
     "text": [
      "1\tExisten 38596 registros\n",
      "2\tSe recuperaron los OIDs\n",
      "1000\n",
      "3\tSe descargaron los datos\n"
     ]
    },
    {
     "ename": "RuntimeError",
     "evalue": "The operation was attempted on an empty geometry.",
     "output_type": "error",
     "traceback": [
      "\u001b[1;31m\u001b[0m",
      "\u001b[1;31mRuntimeError\u001b[0mTraceback (most recent call last)",
      "\u001b[1;32m<ipython-input-11-20c543451f6d>\u001b[0m in \u001b[0;36m<module>\u001b[1;34m()\u001b[0m\n\u001b[0;32m      7\u001b[0m \u001b[0mfeature\u001b[0m \u001b[1;33m=\u001b[0m \u001b[0mrequestData\u001b[0m\u001b[1;33m(\u001b[0m\u001b[0murl\u001b[0m\u001b[1;33m,\u001b[0m \u001b[0mlista_oids\u001b[0m\u001b[1;33m)\u001b[0m\u001b[1;33m\u001b[0m\u001b[0m\n\u001b[0;32m      8\u001b[0m \u001b[1;32mprint\u001b[0m\u001b[1;33m(\u001b[0m\u001b[1;34m\"3\\tSe descargaron los datos\"\u001b[0m\u001b[1;33m)\u001b[0m\u001b[1;33m\u001b[0m\u001b[0m\n\u001b[1;32m----> 9\u001b[1;33m \u001b[0muploadData\u001b[0m\u001b[1;33m(\u001b[0m\u001b[0mfeature\u001b[0m\u001b[1;33m,\u001b[0m \u001b[0mpth\u001b[0m\u001b[1;33m)\u001b[0m\u001b[1;33m\u001b[0m\u001b[0m\n\u001b[0m\u001b[0;32m     10\u001b[0m \u001b[1;32mprint\u001b[0m\u001b[1;33m(\u001b[0m\u001b[1;34m\"4\\tSe subieron los datos\"\u001b[0m\u001b[1;33m)\u001b[0m\u001b[1;33m\u001b[0m\u001b[0m\n",
      "\u001b[1;32m<ipython-input-8-d9a20485e9b3>\u001b[0m in \u001b[0;36muploadData\u001b[1;34m(feature, pth)\u001b[0m\n\u001b[0;32m     60\u001b[0m         \u001b[0medit\u001b[0m\u001b[1;33m.\u001b[0m\u001b[0mstartEditing\u001b[0m\u001b[1;33m(\u001b[0m\u001b[0mFalse\u001b[0m\u001b[1;33m,\u001b[0m \u001b[0mTrue\u001b[0m\u001b[1;33m)\u001b[0m\u001b[1;33m\u001b[0m\u001b[0m\n\u001b[0;32m     61\u001b[0m         \u001b[0marcpy\u001b[0m\u001b[1;33m.\u001b[0m\u001b[0mAppend_management\u001b[0m\u001b[1;33m(\u001b[0m\u001b[0mfeature\u001b[0m\u001b[1;33m,\u001b[0m \u001b[0mpth\u001b[0m\u001b[1;33m,\u001b[0m \u001b[1;34m'NO_TEST'\u001b[0m\u001b[1;33m)\u001b[0m\u001b[1;33m\u001b[0m\u001b[0m\n\u001b[1;32m---> 62\u001b[1;33m         \u001b[0medit\u001b[0m\u001b[1;33m.\u001b[0m\u001b[0mstopEditing\u001b[0m\u001b[1;33m(\u001b[0m\u001b[0mTrue\u001b[0m\u001b[1;33m)\u001b[0m\u001b[1;33m\u001b[0m\u001b[0m\n\u001b[0m",
      "\u001b[1;31mRuntimeError\u001b[0m: The operation was attempted on an empty geometry."
     ]
    }
   ],
   "source": [
    "# Modelo de descargas\n",
    "validation(pth)\n",
    "cantidad = countOnly(url)\n",
    "print(\"1\\tExisten {} registros\".format(cantidad))\n",
    "lista_oids = oidsOnly(url)\n",
    "print(\"2\\tSe recuperaron los OIDs\")\n",
    "feature = requestData(url, lista_oids)\n",
    "print(\"3\\tSe descargaron los datos\")\n",
    "uploadData(feature, pth)\n",
    "print(\"4\\tSe subieron los datos\")"
   ]
  },
  {
   "cell_type": "code",
   "execution_count": 12,
   "metadata": {},
   "outputs": [
    {
     "data": {
      "text/plain": [
       "<RecordSet object at 0x1933cb90[0x19385800]>"
      ]
     },
     "execution_count": 12,
     "metadata": {},
     "output_type": "execute_result"
    }
   ],
   "source": []
  },
  {
   "cell_type": "code",
   "execution_count": null,
   "metadata": {},
   "outputs": [],
   "source": []
  }
 ],
 "metadata": {
  "kernelspec": {
   "display_name": "Python 2.7.18 32-bit",
   "language": "python",
   "name": "python3"
  },
  "language_info": {
   "codemirror_mode": {
    "name": "ipython",
    "version": 2
   },
   "file_extension": ".py",
   "mimetype": "text/x-python",
   "name": "python",
   "nbconvert_exporter": "python",
   "pygments_lexer": "ipython2",
   "version": "2.7.18"
  },
  "orig_nbformat": 4,
  "vscode": {
   "interpreter": {
    "hash": "6f84f5f7df47bf497baa75cdb082ea17a8b9b533595a176a1df28d38a590910d"
   }
  }
 },
 "nbformat": 4,
 "nbformat_minor": 2
}
