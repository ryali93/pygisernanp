{
 "cells": [
  {
   "cell_type": "code",
   "execution_count": 4,
   "metadata": {},
   "outputs": [],
   "source": [
    "import os, requests\n",
    "import json, uuid\n",
    "import arcpy\n",
    "\n",
    "scratch = arcpy.env.scratchGDB\n",
    "arcpy.env.overwriteOutput = True"
   ]
  },
  {
   "cell_type": "code",
   "execution_count": 25,
   "metadata": {},
   "outputs": [],
   "source": [
    "def validation(pth):\n",
    "    if arcpy.Exists(pth) == True:\n",
    "        if int(arcpy.GetCount_management(pth).getOutput(0)) != 0:\n",
    "            arcpy.Delete_management(pth)\n",
    "\n",
    "def countOnly(url):\n",
    "    response = requests.post(\n",
    "        url,\n",
    "        data={\n",
    "            'where': '1=1',\n",
    "            'outFields': \"*\",\n",
    "            'returnCountOnly': 'true',\n",
    "            'f': 'pjson'\n",
    "        }\n",
    "    )\n",
    "    res = json.loads(response.text)\n",
    "    cantidad = res[\"count\"]\n",
    "    return cantidad\n",
    "\n",
    "def oidsOnly(url):\n",
    "    lista_oids = []\n",
    "    response = requests.post(\n",
    "        url,\n",
    "        data={\n",
    "            'where': \"1=1\",\n",
    "            'outFields': \"*\",\n",
    "            'returnIdsOnly': 'true',\n",
    "            'f': 'pjson'\n",
    "        }\n",
    "    )\n",
    "    res = json.loads(response.text)\n",
    "    lista_oids.extend(res[\"objectIds\"])\n",
    "    lista_oids = list(set(lista_oids))\n",
    "    return(lista_oids)\n",
    "\n",
    "def requestData(url, lista_oids, pth):\n",
    "    chunks = [lista_oids[x:x + 1000] for x in xrange(0, len(lista_oids), 1000)]\n",
    "    for n in chunks:\n",
    "        print(len(n))\n",
    "        n = ','.join([str(x) for x in n])\n",
    "        response = requests.post(\n",
    "            url,\n",
    "            data={\n",
    "                'objectIds': n,\n",
    "                'outFields': \"*\",\n",
    "                'f': 'pjson'\n",
    "            }\n",
    "        )\n",
    "        res = json.loads(response.text)\n",
    "        feature = arcpy.AsShape(res, True)\n",
    "        uploadData(feature, pth)\n",
    "        return feature\n",
    "\n",
    "def uploadData(feature, pth):\n",
    "    if arcpy.Exists(pth) == False:\n",
    "        # arcpy.CopyFeatures_management(feature, pth)\n",
    "        print(\"NO EXISTE O NO SE PUDO COPIAR\")\n",
    "    else:\n",
    "        workspace = os.path.dirname(pth)\n",
    "        edit = arcpy.da.Editor(workspace)\n",
    "        edit.startEditing(False, True)\n",
    "        arcpy.Append_management(feature, pth, 'NO_TEST')\n",
    "        edit.stopEditing(True)"
   ]
  },
  {
   "cell_type": "code",
   "execution_count": 26,
   "metadata": {},
   "outputs": [],
   "source": [
    "gdb = r'Database Connections\\gdb.sde'\n",
    "nameFd = r'gdb.sde.RiesgoDesastres'\n",
    "nameFc = r'gdb.sde.CicatricesIncendios'\n",
    "pth = os.path.join(gdb, nameFd, nameFc)\n",
    "url = 'https://geo.serfor.gob.pe/geoservicios/rest/services/Visor/Incendios/MapServer/5/query'"
   ]
  },
  {
   "cell_type": "code",
   "execution_count": 27,
   "metadata": {},
   "outputs": [
    {
     "name": "stdout",
     "output_type": "stream",
     "text": [
      "1\tExisten 38596 registros\n",
      "2\tSe recuperaron los OIDs\n",
      "1000\n"
     ]
    },
    {
     "ename": "RuntimeError",
     "evalue": "cannot open workspace",
     "output_type": "error",
     "traceback": [
      "\u001b[1;31m\u001b[0m",
      "\u001b[1;31mRuntimeError\u001b[0mTraceback (most recent call last)",
      "\u001b[1;32m<ipython-input-27-4c646a14eec6>\u001b[0m in \u001b[0;36m<module>\u001b[1;34m()\u001b[0m\n\u001b[0;32m      5\u001b[0m \u001b[0mlista_oids\u001b[0m \u001b[1;33m=\u001b[0m \u001b[0moidsOnly\u001b[0m\u001b[1;33m(\u001b[0m\u001b[0murl\u001b[0m\u001b[1;33m)\u001b[0m\u001b[1;33m\u001b[0m\u001b[0m\n\u001b[0;32m      6\u001b[0m \u001b[1;32mprint\u001b[0m\u001b[1;33m(\u001b[0m\u001b[1;34m\"2\\tSe recuperaron los OIDs\"\u001b[0m\u001b[1;33m)\u001b[0m\u001b[1;33m\u001b[0m\u001b[0m\n\u001b[1;32m----> 7\u001b[1;33m \u001b[0mfeature\u001b[0m \u001b[1;33m=\u001b[0m \u001b[0mrequestData\u001b[0m\u001b[1;33m(\u001b[0m\u001b[0murl\u001b[0m\u001b[1;33m,\u001b[0m \u001b[0mlista_oids\u001b[0m\u001b[1;33m,\u001b[0m \u001b[0mpth\u001b[0m\u001b[1;33m)\u001b[0m\u001b[1;33m\u001b[0m\u001b[0m\n\u001b[0m\u001b[0;32m      8\u001b[0m \u001b[1;32mprint\u001b[0m\u001b[1;33m(\u001b[0m\u001b[1;34m\"3\\tSe descargaron los datos\"\u001b[0m\u001b[1;33m)\u001b[0m\u001b[1;33m\u001b[0m\u001b[0m\n\u001b[0;32m      9\u001b[0m \u001b[0muploadData\u001b[0m\u001b[1;33m(\u001b[0m\u001b[0mfeature\u001b[0m\u001b[1;33m,\u001b[0m \u001b[0mpth\u001b[0m\u001b[1;33m)\u001b[0m\u001b[1;33m\u001b[0m\u001b[0m\n",
      "\u001b[1;32m<ipython-input-25-de09f82e6904>\u001b[0m in \u001b[0;36mrequestData\u001b[1;34m(url, lista_oids, pth)\u001b[0m\n\u001b[0;32m     49\u001b[0m         \u001b[0mres\u001b[0m \u001b[1;33m=\u001b[0m \u001b[0mjson\u001b[0m\u001b[1;33m.\u001b[0m\u001b[0mloads\u001b[0m\u001b[1;33m(\u001b[0m\u001b[0mresponse\u001b[0m\u001b[1;33m.\u001b[0m\u001b[0mtext\u001b[0m\u001b[1;33m)\u001b[0m\u001b[1;33m\u001b[0m\u001b[0m\n\u001b[0;32m     50\u001b[0m         \u001b[0mfeature\u001b[0m \u001b[1;33m=\u001b[0m \u001b[0marcpy\u001b[0m\u001b[1;33m.\u001b[0m\u001b[0mAsShape\u001b[0m\u001b[1;33m(\u001b[0m\u001b[0mres\u001b[0m\u001b[1;33m,\u001b[0m \u001b[0mTrue\u001b[0m\u001b[1;33m)\u001b[0m\u001b[1;33m\u001b[0m\u001b[0m\n\u001b[1;32m---> 51\u001b[1;33m         \u001b[0muploadData\u001b[0m\u001b[1;33m(\u001b[0m\u001b[0mfeature\u001b[0m\u001b[1;33m,\u001b[0m \u001b[0mpth\u001b[0m\u001b[1;33m)\u001b[0m\u001b[1;33m\u001b[0m\u001b[0m\n\u001b[0m\u001b[0;32m     52\u001b[0m         \u001b[1;32mreturn\u001b[0m \u001b[0mfeature\u001b[0m\u001b[1;33m\u001b[0m\u001b[0m\n\u001b[0;32m     53\u001b[0m \u001b[1;33m\u001b[0m\u001b[0m\n",
      "\u001b[1;32m<ipython-input-25-de09f82e6904>\u001b[0m in \u001b[0;36muploadData\u001b[1;34m(feature, pth)\u001b[0m\n\u001b[0;32m     58\u001b[0m     \u001b[1;32melse\u001b[0m\u001b[1;33m:\u001b[0m\u001b[1;33m\u001b[0m\u001b[0m\n\u001b[0;32m     59\u001b[0m         \u001b[0mworkspace\u001b[0m \u001b[1;33m=\u001b[0m \u001b[0mos\u001b[0m\u001b[1;33m.\u001b[0m\u001b[0mpath\u001b[0m\u001b[1;33m.\u001b[0m\u001b[0mdirname\u001b[0m\u001b[1;33m(\u001b[0m\u001b[0mpth\u001b[0m\u001b[1;33m)\u001b[0m\u001b[1;33m\u001b[0m\u001b[0m\n\u001b[1;32m---> 60\u001b[1;33m         \u001b[0medit\u001b[0m \u001b[1;33m=\u001b[0m \u001b[0marcpy\u001b[0m\u001b[1;33m.\u001b[0m\u001b[0mda\u001b[0m\u001b[1;33m.\u001b[0m\u001b[0mEditor\u001b[0m\u001b[1;33m(\u001b[0m\u001b[0mworkspace\u001b[0m\u001b[1;33m)\u001b[0m\u001b[1;33m\u001b[0m\u001b[0m\n\u001b[0m\u001b[0;32m     61\u001b[0m         \u001b[0medit\u001b[0m\u001b[1;33m.\u001b[0m\u001b[0mstartEditing\u001b[0m\u001b[1;33m(\u001b[0m\u001b[0mFalse\u001b[0m\u001b[1;33m,\u001b[0m \u001b[0mTrue\u001b[0m\u001b[1;33m)\u001b[0m\u001b[1;33m\u001b[0m\u001b[0m\n\u001b[0;32m     62\u001b[0m         \u001b[0marcpy\u001b[0m\u001b[1;33m.\u001b[0m\u001b[0mAppend_management\u001b[0m\u001b[1;33m(\u001b[0m\u001b[0mfeature\u001b[0m\u001b[1;33m,\u001b[0m \u001b[0mpth\u001b[0m\u001b[1;33m,\u001b[0m \u001b[1;34m'NO_TEST'\u001b[0m\u001b[1;33m)\u001b[0m\u001b[1;33m\u001b[0m\u001b[0m\n",
      "\u001b[1;31mRuntimeError\u001b[0m: cannot open workspace"
     ]
    }
   ],
   "source": [
    "# Modelo de descargas\n",
    "validation(pth)\n",
    "cantidad = countOnly(url)\n",
    "print(\"1\\tExisten {} registros\".format(cantidad))\n",
    "lista_oids = oidsOnly(url)\n",
    "print(\"2\\tSe recuperaron los OIDs\")\n",
    "feature = requestData(url, lista_oids, pth)\n",
    "print(\"3\\tSe descargaron los datos\")\n",
    "uploadData(feature, pth)\n",
    "print(\"4\\tSe subieron los datos\")"
   ]
  },
  {
   "cell_type": "code",
   "execution_count": 13,
   "metadata": {},
   "outputs": [
    {
     "name": "stdout",
     "output_type": "stream",
     "text": [
      "Database Connections\\gdb.sde\\gdb.sde.RiesgoDesastres\\gdb.sde.CicatricesIncendios\n"
     ]
    },
    {
     "data": {
      "text/plain": [
       "True"
      ]
     },
     "execution_count": 13,
     "metadata": {},
     "output_type": "execute_result"
    }
   ],
   "source": [
    "print(pth)\n",
    "arcpy.Exists(pth)"
   ]
  },
  {
   "cell_type": "code",
   "execution_count": 9,
   "metadata": {},
   "outputs": [],
   "source": []
  },
  {
   "cell_type": "code",
   "execution_count": 28,
   "metadata": {},
   "outputs": [],
   "source": [
    "workspace = os.path.dirname(pth)\n"
   ]
  },
  {
   "cell_type": "code",
   "execution_count": 29,
   "metadata": {},
   "outputs": [
    {
     "data": {
      "text/plain": [
       "'Database Connections\\\\gdb.sde\\\\gdb.sde.RiesgoDesastres'"
      ]
     },
     "execution_count": 29,
     "metadata": {},
     "output_type": "execute_result"
    }
   ],
   "source": [
    "workspace"
   ]
  },
  {
   "cell_type": "code",
   "execution_count": 30,
   "metadata": {},
   "outputs": [
    {
     "ename": "RuntimeError",
     "evalue": "cannot open workspace",
     "output_type": "error",
     "traceback": [
      "\u001b[1;31m\u001b[0m",
      "\u001b[1;31mRuntimeError\u001b[0mTraceback (most recent call last)",
      "\u001b[1;32m<ipython-input-30-6b1a16699f76>\u001b[0m in \u001b[0;36m<module>\u001b[1;34m()\u001b[0m\n\u001b[1;32m----> 1\u001b[1;33m \u001b[0medit\u001b[0m \u001b[1;33m=\u001b[0m \u001b[0marcpy\u001b[0m\u001b[1;33m.\u001b[0m\u001b[0mda\u001b[0m\u001b[1;33m.\u001b[0m\u001b[0mEditor\u001b[0m\u001b[1;33m(\u001b[0m\u001b[0mworkspace\u001b[0m\u001b[1;33m)\u001b[0m\u001b[1;33m\u001b[0m\u001b[0m\n\u001b[0m",
      "\u001b[1;31mRuntimeError\u001b[0m: cannot open workspace"
     ]
    }
   ],
   "source": [
    "edit = arcpy.da.Editor(workspace)"
   ]
  },
  {
   "cell_type": "code",
   "execution_count": null,
   "metadata": {},
   "outputs": [],
   "source": []
  }
 ],
 "metadata": {
  "kernelspec": {
   "display_name": "Python 2.7.16 32-bit",
   "language": "python",
   "name": "python3"
  },
  "language_info": {
   "codemirror_mode": {
    "name": "ipython",
    "version": 2
   },
   "file_extension": ".py",
   "mimetype": "text/x-python",
   "name": "python",
   "nbconvert_exporter": "python",
   "pygments_lexer": "ipython2",
   "version": "2.7.16"
  },
  "orig_nbformat": 4,
  "vscode": {
   "interpreter": {
    "hash": "c6af8bca03c7ecda58622b0648f8b91581761d93930784c975d3d1770aa9d022"
   }
  }
 },
 "nbformat": 4,
 "nbformat_minor": 2
}
